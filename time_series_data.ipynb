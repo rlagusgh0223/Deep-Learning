{
  "nbformat": 4,
  "nbformat_minor": 0,
  "metadata": {
    "colab": {
      "name": "time series data",
      "provenance": [],
      "authorship_tag": "ABX9TyOWLtg+hNDDUgYY1e2xGv6f"
    },
    "kernelspec": {
      "name": "python3",
      "display_name": "Python 3"
    },
    "language_info": {
      "name": "python"
    }
  },
  "cells": [
    {
      "cell_type": "code",
      "metadata": {
        "id": "1KPeHyNWgeIS"
      },
      "source": [
        "from google.colab import drive\n",
        "drive.mount('/content/gdrive')"
      ],
      "execution_count": null,
      "outputs": []
    },
    {
      "cell_type": "code",
      "metadata": {
        "id": "_M6xEWKYhe7Y"
      },
      "source": [
        "import matplotlib.pyplot as plt\n",
        "import numpy as np\n",
        "import pandas as pd\n",
        "data_no = pd.read_csv(\n",
        "    '/content/gdrive/MyDrive/Colab Notebooks/ecg/ptbdb_normal.csv')\n",
        "data_ab = pd.read_csv(\n",
        "    '/content/gdrive/MyDrive/Colab Notebooks/ecg/ptbdb_abnormal.csv')\n",
        "data_no = np.array(data_no)\n",
        "data_ab = np.array(data_ab)"
      ],
      "execution_count": 4,
      "outputs": []
    },
    {
      "cell_type": "code",
      "metadata": {
        "colab": {
          "base_uri": "https://localhost:8080/"
        },
        "id": "m4BTdb1aij9p",
        "outputId": "2eccac29-3aad-4bc3-d5c1-d4bf03dce882"
      },
      "source": [
        "data_no.shape"
      ],
      "execution_count": 5,
      "outputs": [
        {
          "output_type": "execute_result",
          "data": {
            "text/plain": [
              "(4045, 188)"
            ]
          },
          "metadata": {
            "tags": []
          },
          "execution_count": 5
        }
      ]
    },
    {
      "cell_type": "code",
      "metadata": {
        "colab": {
          "base_uri": "https://localhost:8080/",
          "height": 283
        },
        "id": "T_ZZLc4FinBV",
        "outputId": "21456d7d-8c35-426e-bc8f-ee17333c7dd1"
      },
      "source": [
        "plt.plot(data_no[0,:])"
      ],
      "execution_count": 6,
      "outputs": [
        {
          "output_type": "execute_result",
          "data": {
            "text/plain": [
              "[<matplotlib.lines.Line2D at 0x7ff5fc10f850>]"
            ]
          },
          "metadata": {
            "tags": []
          },
          "execution_count": 6
        },
        {
          "output_type": "display_data",
          "data": {
            "image/png": "[encoded data removed]",
            "text/plain": [
              "<Figure size 432x288 with 1 Axes>"
            ]
          },
          "metadata": {
            "tags": [],
            "needs_background": "light"
          }
        }
      ]
    },
    {
      "cell_type": "code",
      "metadata": {
        "id": "85bUqu5Wi1V3"
      },
      "source": [
        "nTrain = 3000\n",
        "nTest = 1000\n",
        "x_train = np.concatenate((data_no[:nTrain,:], data_ab[:nTrain,:]),0)\n",
        "y_train = np.concatenate((np.zeros(nTrain,), np.ones(nTrain,)),0)\n",
        "x_test = np.concatenate((data_no[nTrain:nTrain+nTest,:], data_ab[nTrain:nTrain+nTest,:]),0)\n",
        "y_test = np.concatenate((np.zeros(nTest,), np.ones(nTest,)),0)\n",
        "\n",
        "from tensorflow.keras.utils import to_categorical\n",
        "from tensorflow.keras import Sequential\n",
        "from tensorflow.keras import layers\n",
        "from tensorflow.keras import optimizers\n",
        "y_test = to_categorical(y_test)\n",
        "y_train = to_categorical(y_train)\n",
        "x_train = np.expand_dims(x_train, -1)\n",
        "x_test = np.expand_dims(x_test, -1)"
      ],
      "execution_count": 8,
      "outputs": []
    },
    {
      "cell_type": "code",
      "metadata": {
        "id": "XufWin1UkGL6"
      },
      "source": [
        "model = Sequential()\n",
        "model.add(layers.Conv1D(filters=16, kernel_size=3,\n",
        "                        input_shape=(x_train.shape[1], 1), activation='relu'))\n",
        "model.add(layers.Conv1D(filters=16, kernel_size=3, activation='relu'))\n",
        "model.add(layers.MaxPooling1D(pool_size=3, strides=2))\n",
        "model.add(layers.Conv1D(filters=32, kernel_size=3,\n",
        "                        input_shape=(x_train.shape[1], 1), activation='relu'))\n",
        "model.add(layers.Conv1D(filters=32, kernel_size=3, activation='relu'))\n",
        "model.add(layers.MaxPooling1D(pool_size=3, strides=2))\n",
        "model.add(layers.LSTM(16))\n",
        "model.add(layers.Dense(units=2, activation='softmax'))\n",
        "model.compile(loss='categorical_crossentropy', optimizer=optimizers.Adam(learning_rate=0.01),\n",
        "              metrics=['accuracy'])"
      ],
      "execution_count": 9,
      "outputs": []
    },
    {
      "cell_type": "code",
      "metadata": {
        "colab": {
          "base_uri": "https://localhost:8080/"
        },
        "id": "Mj52CxHUljCH",
        "outputId": "8e249680-f8cf-4955-fbbe-5c938d28a50f"
      },
      "source": [
        "model.fit(x_train, y_train, epochs=50, batch_size=128, validation_split=0.2)"
      ],
      "execution_count": 10,
      "outputs": [
        {
          "output_type": "stream",
          "text": [
            "Epoch 1/50\n",
            "38/38 [==============================] - 6s 86ms/step - loss: 0.6262 - accuracy: 0.6558 - val_loss: 0.9336 - val_accuracy: 0.3883\n",
            "Epoch 2/50\n",
            "38/38 [==============================] - 3s 70ms/step - loss: 0.5755 - accuracy: 0.7110 - val_loss: 0.8144 - val_accuracy: 0.4400\n",
            "Epoch 3/50\n",
            "38/38 [==============================] - 3s 71ms/step - loss: 0.5670 - accuracy: 0.7163 - val_loss: 0.8611 - val_accuracy: 0.4133\n",
            "Epoch 4/50\n",
            "38/38 [==============================] - 3s 71ms/step - loss: 0.5492 - accuracy: 0.7252 - val_loss: 0.8660 - val_accuracy: 0.4367\n",
            "Epoch 5/50\n",
            "38/38 [==============================] - 3s 72ms/step - loss: 0.5462 - accuracy: 0.7260 - val_loss: 0.7145 - val_accuracy: 0.6025\n",
            "Epoch 6/50\n",
            "38/38 [==============================] - 3s 71ms/step - loss: 0.5375 - accuracy: 0.7308 - val_loss: 0.7138 - val_accuracy: 0.5767\n",
            "Epoch 7/50\n",
            "38/38 [==============================] - 3s 72ms/step - loss: 0.5437 - accuracy: 0.7300 - val_loss: 0.7663 - val_accuracy: 0.4992\n",
            "Epoch 8/50\n",
            "38/38 [==============================] - 3s 71ms/step - loss: 0.5431 - accuracy: 0.7406 - val_loss: 0.8252 - val_accuracy: 0.4900\n",
            "Epoch 9/50\n",
            "38/38 [==============================] - 3s 72ms/step - loss: 0.5243 - accuracy: 0.7406 - val_loss: 0.8541 - val_accuracy: 0.5025\n",
            "Epoch 10/50\n",
            "38/38 [==============================] - 3s 72ms/step - loss: 0.5123 - accuracy: 0.7585 - val_loss: 0.6314 - val_accuracy: 0.5708\n",
            "Epoch 11/50\n",
            "38/38 [==============================] - 3s 71ms/step - loss: 0.5245 - accuracy: 0.7540 - val_loss: 0.7942 - val_accuracy: 0.3908\n",
            "Epoch 12/50\n",
            "38/38 [==============================] - 3s 73ms/step - loss: 0.5072 - accuracy: 0.7592 - val_loss: 0.7951 - val_accuracy: 0.4683\n",
            "Epoch 13/50\n",
            "38/38 [==============================] - 3s 72ms/step - loss: 0.4918 - accuracy: 0.7679 - val_loss: 0.7814 - val_accuracy: 0.5267\n",
            "Epoch 14/50\n",
            "38/38 [==============================] - 3s 72ms/step - loss: 0.4577 - accuracy: 0.7890 - val_loss: 0.7669 - val_accuracy: 0.5117\n",
            "Epoch 15/50\n",
            "38/38 [==============================] - 3s 73ms/step - loss: 0.4657 - accuracy: 0.7810 - val_loss: 0.6354 - val_accuracy: 0.6192\n",
            "Epoch 16/50\n",
            "38/38 [==============================] - 3s 72ms/step - loss: 0.4614 - accuracy: 0.7854 - val_loss: 0.7469 - val_accuracy: 0.5242\n",
            "Epoch 17/50\n",
            "38/38 [==============================] - 3s 71ms/step - loss: 0.4201 - accuracy: 0.8106 - val_loss: 0.7331 - val_accuracy: 0.5758\n",
            "Epoch 18/50\n",
            "38/38 [==============================] - 3s 71ms/step - loss: 0.4144 - accuracy: 0.8150 - val_loss: 0.6865 - val_accuracy: 0.5608\n",
            "Epoch 19/50\n",
            "38/38 [==============================] - 3s 70ms/step - loss: 0.3877 - accuracy: 0.8360 - val_loss: 0.4588 - val_accuracy: 0.7492\n",
            "Epoch 20/50\n",
            "38/38 [==============================] - 3s 71ms/step - loss: 0.3512 - accuracy: 0.8583 - val_loss: 0.4109 - val_accuracy: 0.7825\n",
            "Epoch 21/50\n",
            "38/38 [==============================] - 3s 71ms/step - loss: 0.3307 - accuracy: 0.8719 - val_loss: 0.5831 - val_accuracy: 0.7250\n",
            "Epoch 22/50\n",
            "38/38 [==============================] - 3s 70ms/step - loss: 0.3005 - accuracy: 0.8785 - val_loss: 0.6821 - val_accuracy: 0.6567\n",
            "Epoch 23/50\n",
            "38/38 [==============================] - 3s 71ms/step - loss: 0.3023 - accuracy: 0.8785 - val_loss: 0.5800 - val_accuracy: 0.7533\n",
            "Epoch 24/50\n",
            "38/38 [==============================] - 3s 73ms/step - loss: 0.2664 - accuracy: 0.8985 - val_loss: 0.3602 - val_accuracy: 0.8158\n",
            "Epoch 25/50\n",
            "38/38 [==============================] - 3s 72ms/step - loss: 0.2559 - accuracy: 0.8985 - val_loss: 0.6321 - val_accuracy: 0.7217\n",
            "Epoch 26/50\n",
            "38/38 [==============================] - 3s 71ms/step - loss: 0.2551 - accuracy: 0.9015 - val_loss: 0.2619 - val_accuracy: 0.8850\n",
            "Epoch 27/50\n",
            "38/38 [==============================] - 3s 71ms/step - loss: 0.2434 - accuracy: 0.9035 - val_loss: 0.3274 - val_accuracy: 0.8400\n",
            "Epoch 28/50\n",
            "38/38 [==============================] - 3s 71ms/step - loss: 0.2400 - accuracy: 0.9081 - val_loss: 0.4019 - val_accuracy: 0.8042\n",
            "Epoch 29/50\n",
            "38/38 [==============================] - 3s 72ms/step - loss: 0.2095 - accuracy: 0.9194 - val_loss: 0.2055 - val_accuracy: 0.9175\n",
            "Epoch 30/50\n",
            "38/38 [==============================] - 3s 72ms/step - loss: 0.2059 - accuracy: 0.9217 - val_loss: 0.2386 - val_accuracy: 0.8883\n",
            "Epoch 31/50\n",
            "38/38 [==============================] - 3s 72ms/step - loss: 0.1957 - accuracy: 0.9265 - val_loss: 0.2788 - val_accuracy: 0.8617\n",
            "Epoch 32/50\n",
            "38/38 [==============================] - 3s 72ms/step - loss: 0.1787 - accuracy: 0.9344 - val_loss: 0.3731 - val_accuracy: 0.8292\n",
            "Epoch 33/50\n",
            "38/38 [==============================] - 3s 72ms/step - loss: 0.1867 - accuracy: 0.9244 - val_loss: 0.3027 - val_accuracy: 0.8600\n",
            "Epoch 34/50\n",
            "38/38 [==============================] - 3s 72ms/step - loss: 0.1768 - accuracy: 0.9327 - val_loss: 0.1294 - val_accuracy: 0.9400\n",
            "Epoch 35/50\n",
            "38/38 [==============================] - 3s 72ms/step - loss: 0.2147 - accuracy: 0.9206 - val_loss: 0.2819 - val_accuracy: 0.8825\n",
            "Epoch 36/50\n",
            "38/38 [==============================] - 3s 71ms/step - loss: 0.1555 - accuracy: 0.9446 - val_loss: 0.3803 - val_accuracy: 0.8408\n",
            "Epoch 37/50\n",
            "38/38 [==============================] - 3s 72ms/step - loss: 0.1602 - accuracy: 0.9392 - val_loss: 0.4490 - val_accuracy: 0.8083\n",
            "Epoch 38/50\n",
            "38/38 [==============================] - 3s 72ms/step - loss: 0.1743 - accuracy: 0.9358 - val_loss: 0.2367 - val_accuracy: 0.8842\n",
            "Epoch 39/50\n",
            "38/38 [==============================] - 3s 72ms/step - loss: 0.1653 - accuracy: 0.9342 - val_loss: 0.1862 - val_accuracy: 0.9192\n",
            "Epoch 40/50\n",
            "38/38 [==============================] - 3s 72ms/step - loss: 0.1531 - accuracy: 0.9456 - val_loss: 0.2682 - val_accuracy: 0.8892\n",
            "Epoch 41/50\n",
            "38/38 [==============================] - 3s 72ms/step - loss: 0.1413 - accuracy: 0.9433 - val_loss: 0.3280 - val_accuracy: 0.8633\n",
            "Epoch 42/50\n",
            "38/38 [==============================] - 3s 71ms/step - loss: 0.1334 - accuracy: 0.9506 - val_loss: 0.2458 - val_accuracy: 0.9058\n",
            "Epoch 43/50\n",
            "38/38 [==============================] - 3s 72ms/step - loss: 0.1179 - accuracy: 0.9552 - val_loss: 0.1175 - val_accuracy: 0.9575\n",
            "Epoch 44/50\n",
            "38/38 [==============================] - 3s 72ms/step - loss: 0.1258 - accuracy: 0.9506 - val_loss: 0.3138 - val_accuracy: 0.8842\n",
            "Epoch 45/50\n",
            "38/38 [==============================] - 3s 72ms/step - loss: 0.1138 - accuracy: 0.9583 - val_loss: 0.1907 - val_accuracy: 0.9217\n",
            "Epoch 46/50\n",
            "38/38 [==============================] - 3s 72ms/step - loss: 0.1207 - accuracy: 0.9548 - val_loss: 0.2783 - val_accuracy: 0.8900\n",
            "Epoch 47/50\n",
            "38/38 [==============================] - 3s 71ms/step - loss: 0.1184 - accuracy: 0.9583 - val_loss: 0.3124 - val_accuracy: 0.8850\n",
            "Epoch 48/50\n",
            "38/38 [==============================] - 3s 72ms/step - loss: 0.1310 - accuracy: 0.9517 - val_loss: 0.2040 - val_accuracy: 0.9233\n",
            "Epoch 49/50\n",
            "38/38 [==============================] - 3s 72ms/step - loss: 0.1154 - accuracy: 0.9600 - val_loss: 0.2584 - val_accuracy: 0.8983\n",
            "Epoch 50/50\n",
            "38/38 [==============================] - 3s 71ms/step - loss: 0.1096 - accuracy: 0.9577 - val_loss: 0.2326 - val_accuracy: 0.9075\n"
          ],
          "name": "stdout"
        },
        {
          "output_type": "execute_result",
          "data": {
            "text/plain": [
              "<tensorflow.python.keras.callbacks.History at 0x7ff5b0bf2e10>"
            ]
          },
          "metadata": {
            "tags": []
          },
          "execution_count": 10
        }
      ]
    },
    {
      "cell_type": "code",
      "metadata": {
        "colab": {
          "base_uri": "https://localhost:8080/"
        },
        "id": "_IwcjkkSnjxp",
        "outputId": "28eddf2b-3576-4249-ca32-cde14e3cde23"
      },
      "source": [
        "o = model.predict(x_test)\n",
        "o = np.argmax(o,1)\n",
        "y_test = np.argmax(y_test,1)\n",
        "sum(np.equal(y_test,o)/len(y_test))"
      ],
      "execution_count": 11,
      "outputs": [
        {
          "output_type": "execute_result",
          "data": {
            "text/plain": [
              "0.95749999999995"
            ]
          },
          "metadata": {
            "tags": []
          },
          "execution_count": 11
        }
      ]
    }
  ]
}