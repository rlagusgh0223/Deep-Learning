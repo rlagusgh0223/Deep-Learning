{
  "nbformat": 4,
  "nbformat_minor": 0,
  "metadata": {
    "colab": {
      "name": "MNIST",
      "provenance": [],
      "authorship_tag": "ABX9TyMob07QFhRxxCaUygbAC5RY"
    },
    "kernelspec": {
      "name": "python3",
      "display_name": "Python 3"
    },
    "language_info": {
      "name": "python"
    }
  },
  "cells": [
    {
      "cell_type": "code",
      "metadata": {
        "id": "KY2WapkVJXME"
      },
      "source": [
        "import pandas as pd\n",
        "import numpy as np\n",
        "data = pd.read_csv('./sample_data/mnist_train_small.csv',header=None)\n",
        "data = np.array(data)"
      ],
      "execution_count": 1,
      "outputs": []
    },
    {
      "cell_type": "code",
      "metadata": {
        "colab": {
          "base_uri": "https://localhost:8080/"
        },
        "id": "MSJxTlCNJtJZ",
        "outputId": "2eb05020-5f3c-4f49-cea8-7291b5100db3"
      },
      "source": [
        "print(data)\n",
        "print(data.shape)"
      ],
      "execution_count": 2,
      "outputs": [
        {
          "output_type": "stream",
          "text": [
            "[[6 0 0 ... 0 0 0]\n",
            " [5 0 0 ... 0 0 0]\n",
            " [7 0 0 ... 0 0 0]\n",
            " ...\n",
            " [2 0 0 ... 0 0 0]\n",
            " [9 0 0 ... 0 0 0]\n",
            " [5 0 0 ... 0 0 0]]\n",
            "(20000, 785)\n"
          ],
          "name": "stdout"
        }
      ]
    },
    {
      "cell_type": "code",
      "metadata": {
        "colab": {
          "base_uri": "https://localhost:8080/"
        },
        "id": "J6DFWjT0JxNC",
        "outputId": "0009aa5e-3eb7-4aab-be0a-11b01dfeccd1"
      },
      "source": [
        "print(data[0,:])"
      ],
      "execution_count": 3,
      "outputs": [
        {
          "output_type": "stream",
          "text": [
            "[  6   0   0   0   0   0   0   0   0   0   0   0   0   0   0   0   0   0\n",
            "   0   0   0   0   0   0   0   0   0   0   0   0   0   0   0   0   0   0\n",
            "   0   0   0   0   0   0   0   0   0   0   0   0   0   0   0   0   0   0\n",
            "   0   0   0   0   0   0   0   0   0   0   0   0   0   0   0   0   0   0\n",
            "   0   0   0   0   0   0   0   0   0   0   0   0   0   0   0   0   0   0\n",
            "   0   0   0   0   0   0   0   0   0   0   0   0   0   0   0   0   0   0\n",
            "   0   0   0   0   0   0   0   0   0   0   0   0   0   0   0  24  67  67\n",
            "  18   0   0   0   0   0   0   0   0   0   0   0   0   0   0   0   0   0\n",
            "   0   0   0   0   0   0   0 131 252 252  66   0   0   0   0   0   0   0\n",
            "   0   0   0   0   0   0   0   0   0   0   0   0   0   0   0   0 159 250\n",
            " 232  30  32   0   0   0   0   0   0   0   0   0   0   0   0   0   0   0\n",
            "   0   0   0   0   0   0   0  15 222 252 108   0   0   0   0   0   0   0\n",
            "   0   0   0   0   0   0   0   0   0   0   0   0   0   0   0   0   0 147\n",
            " 252 183   5   0   0   0   0   0   0   0  20  89  89  73   0   0   0   0\n",
            "   0   0   0   0   0   0   0   0  48 247 252 159   0   0   0   0   0   0\n",
            "   0  79 236 252 252 249 198  16   0   0   0   0   0   0   0   0   0  41\n",
            " 193 252 199  22   0   0   0   0   0  12 135 248 252 252 252 252 252 100\n",
            "   0   0   0   0   0   0   0   0   0 100 252 252  88   0   0   0   0   0\n",
            "  11 171 252 252 235 175 178 252 252 224   0   0   0   0   0   0   0   0\n",
            "  15 209 252 233  12   0   0   0   0  49 177 252 252  89  26   0   2 166\n",
            " 252 252   0   0   0   0   0   0   0   0  96 253 253  59   0   0   0   0\n",
            "  11 177 255 253  92   0   0   0   0 155 253 128   0   0   0   0   0   0\n",
            "   0   0 143 252 252  10   0   0   0  12 171 252 216 110  13   0   0   0\n",
            "   3 180 232  24   0   0   0   0   0   0   0   0 143 252 170   2   0   0\n",
            "   0 135 252 209  19   0   0   0   0   0  12 252 132   0   0   0   0   0\n",
            "   0   0   0   0 249 252  96   0   0   0  21 248 246  34   0   0   0   0\n",
            "   5  61 234 152   3   0   0   0   0   0   0   0   0   0 253 252  44   0\n",
            "   0   0 145 252 104   0   0   0  46 114 184 252 149  34   0   0   0   0\n",
            "   0   0   0   0   0   0 253 252  82   0   0  31 239 252  66  39  89 165\n",
            " 243 252 233 126   5   0   0   0   0   0   0   0   0   0   0   0 249 252\n",
            " 244 126  98 143 252 252 237 240 253 252 243 174  17   0   0   0   0   0\n",
            "   0   0   0   0   0   0   0   0 119 239 252 252 252 252 252 252 252 252\n",
            " 228 179  17   0   0   0   0   0   0   0   0   0   0   0   0   0   0   0\n",
            "   0  46  66  66  66  66  66  66  66  66  29   0   0   0   0   0   0   0\n",
            "   0   0   0   0   0   0   0   0   0   0   0   0   0   0   0   0   0   0\n",
            "   0   0   0   0   0   0   0   0   0   0   0   0   0   0   0   0   0   0\n",
            "   0   0   0   0   0   0   0   0   0   0   0   0   0   0   0   0   0   0\n",
            "   0   0   0   0   0   0   0   0   0   0   0   0   0   0   0   0   0   0\n",
            "   0   0   0   0   0   0   0   0   0   0   0   0   0   0   0   0   0   0\n",
            "   0   0   0   0   0   0   0   0   0   0   0   0   0   0   0   0   0   0\n",
            "   0   0   0   0   0   0   0   0   0   0   0   0   0   0   0   0   0   0\n",
            "   0   0   0   0   0   0   0   0   0   0   0   0   0   0   0   0   0   0\n",
            "   0   0   0   0   0   0   0   0   0   0   0   0   0   0   0   0   0   0\n",
            "   0   0   0   0   0   0   0   0   0   0   0]\n"
          ],
          "name": "stdout"
        }
      ]
    },
    {
      "cell_type": "code",
      "metadata": {
        "id": "Qy4BEHdgJ4kf"
      },
      "source": [
        "x_train = data[:, 1:]\n",
        "y_train = data[:, 0]\n",
        "x_train = x_train.reshape(-1,28,28)"
      ],
      "execution_count": 4,
      "outputs": []
    },
    {
      "cell_type": "code",
      "metadata": {
        "colab": {
          "base_uri": "https://localhost:8080/"
        },
        "id": "4EYBZgPTKEdj",
        "outputId": "29dacf23-ca6a-458b-cec2-b69d7f6f5ffe"
      },
      "source": [
        "x_train.shape"
      ],
      "execution_count": 5,
      "outputs": [
        {
          "output_type": "execute_result",
          "data": {
            "text/plain": [
              "(20000, 28, 28)"
            ]
          },
          "metadata": {
            "tags": []
          },
          "execution_count": 5
        }
      ]
    },
    {
      "cell_type": "code",
      "metadata": {
        "colab": {
          "base_uri": "https://localhost:8080/",
          "height": 283
        },
        "id": "Se6k3vycKKnE",
        "outputId": "95a48eab-a7c9-4af1-ffe7-1dd1abb3387f"
      },
      "source": [
        "import matplotlib.pyplot as plt\n",
        "plt.imshow(x_train[0,:,:])"
      ],
      "execution_count": 6,
      "outputs": [
        {
          "output_type": "execute_result",
          "data": {
            "text/plain": [
              "<matplotlib.image.AxesImage at 0x7f7e2ad62550>"
            ]
          },
          "metadata": {
            "tags": []
          },
          "execution_count": 6
        },
        {
          "output_type": "display_data",
          "data": {
            "image/png": "[encoded data removed]",
            "text/plain": [
              "<Figure size 432x288 with 1 Axes>"
            ]
          },
          "metadata": {
            "tags": [],
            "needs_background": "light"
          }
        }
      ]
    },
    {
      "cell_type": "code",
      "metadata": {
        "id": "wa6oVlkUK2XI"
      },
      "source": [
        "import tensorflow.keras as keras\n",
        "from keras.models import Sequential\n",
        "from keras import layers\n",
        "from keras import optimizers"
      ],
      "execution_count": 7,
      "outputs": []
    },
    {
      "cell_type": "code",
      "metadata": {
        "id": "ShaOX8tgLS4B"
      },
      "source": [
        "x_train = np.expand_dims(x_train, -1)\n",
        "y_train = keras.utils.to_categorical(y_train)"
      ],
      "execution_count": 8,
      "outputs": []
    },
    {
      "cell_type": "code",
      "metadata": {
        "id": "bdiMgotYLjQu"
      },
      "source": [
        "model = Sequential()\n",
        "model.add(layers.Conv2D(filters=8, kernel_size=3, input_shape=(28,28,1), activation='relu'))\n",
        "model.add(layers.Conv2D(filters=16, kernel_size=3, activation='relu'))\n",
        "model.add(layers.MaxPooling2D(strides=2, padding='same'))\n",
        "model.add(layers.Flatten())\n",
        "model.add(layers.Dense(units=10, activation='softmax'))\n",
        "model.compile(loss='categorical_crossentropy', optimizer=optimizers.\n",
        "              RMSprop(learning_rate=0.001), metrics=['accuracy'])"
      ],
      "execution_count": 10,
      "outputs": []
    },
    {
      "cell_type": "code",
      "metadata": {
        "colab": {
          "base_uri": "https://localhost:8080/"
        },
        "id": "q7XrAgvvOFkR",
        "outputId": "77ba632f-b385-43d8-e747-8c0a199723ed"
      },
      "source": [
        "model.fit(x_train, y_train, epochs=10, batch_size=64, validation_split=0.3)"
      ],
      "execution_count": 11,
      "outputs": [
        {
          "output_type": "stream",
          "text": [
            "Epoch 1/10\n",
            "219/219 [==============================] - 24s 40ms/step - loss: 11.8141 - accuracy: 0.7050 - val_loss: 0.3426 - val_accuracy: 0.9332\n",
            "Epoch 2/10\n",
            "219/219 [==============================] - 8s 37ms/step - loss: 0.2074 - accuracy: 0.9502 - val_loss: 0.1518 - val_accuracy: 0.9617\n",
            "Epoch 3/10\n",
            "219/219 [==============================] - 8s 37ms/step - loss: 0.0883 - accuracy: 0.9749 - val_loss: 0.1745 - val_accuracy: 0.9543\n",
            "Epoch 4/10\n",
            "219/219 [==============================] - 8s 37ms/step - loss: 0.0486 - accuracy: 0.9853 - val_loss: 0.1236 - val_accuracy: 0.9715\n",
            "Epoch 5/10\n",
            "219/219 [==============================] - 8s 37ms/step - loss: 0.0289 - accuracy: 0.9913 - val_loss: 0.1279 - val_accuracy: 0.9717\n",
            "Epoch 6/10\n",
            "219/219 [==============================] - 8s 37ms/step - loss: 0.0197 - accuracy: 0.9939 - val_loss: 0.1409 - val_accuracy: 0.9703\n",
            "Epoch 7/10\n",
            "219/219 [==============================] - 8s 37ms/step - loss: 0.0136 - accuracy: 0.9954 - val_loss: 0.1506 - val_accuracy: 0.9733\n",
            "Epoch 8/10\n",
            "219/219 [==============================] - 8s 37ms/step - loss: 0.0096 - accuracy: 0.9973 - val_loss: 0.1564 - val_accuracy: 0.9730\n",
            "Epoch 9/10\n",
            "219/219 [==============================] - 8s 37ms/step - loss: 0.0064 - accuracy: 0.9978 - val_loss: 0.2025 - val_accuracy: 0.9717\n",
            "Epoch 10/10\n",
            "219/219 [==============================] - 8s 37ms/step - loss: 0.0078 - accuracy: 0.9976 - val_loss: 0.2078 - val_accuracy: 0.9723\n"
          ],
          "name": "stdout"
        },
        {
          "output_type": "execute_result",
          "data": {
            "text/plain": [
              "<keras.callbacks.History at 0x7f7de0c51510>"
            ]
          },
          "metadata": {
            "tags": []
          },
          "execution_count": 11
        }
      ]
    },
    {
      "cell_type": "code",
      "metadata": {
        "id": "RQPgCS15O9V2"
      },
      "source": [
        "data = pd.read_csv('./sample_data/mnist_test.csv',header=None)\n",
        "data = np.array(data)"
      ],
      "execution_count": 12,
      "outputs": []
    },
    {
      "cell_type": "code",
      "metadata": {
        "id": "TAJQbuXpQY1F"
      },
      "source": [
        "x_test = data[:,1:]\n",
        "y_test = data[:,0]\n",
        "x_test = x_test.reshape(-1,28,28,1)"
      ],
      "execution_count": 13,
      "outputs": []
    },
    {
      "cell_type": "code",
      "metadata": {
        "id": "ysA6dpvpQorX"
      },
      "source": [
        "o = model.predict(x_test)\n",
        "o = np.argmax(o,-1)"
      ],
      "execution_count": 14,
      "outputs": []
    },
    {
      "cell_type": "code",
      "metadata": {
        "colab": {
          "base_uri": "https://localhost:8080/"
        },
        "id": "mUELJ1g6QyFa",
        "outputId": "105d5a86-54a9-476c-f0fc-f69e62d2c104"
      },
      "source": [
        "sum(y_test == o)/len(y_test)"
      ],
      "execution_count": 15,
      "outputs": [
        {
          "output_type": "execute_result",
          "data": {
            "text/plain": [
              "0.9747"
            ]
          },
          "metadata": {
            "tags": []
          },
          "execution_count": 15
        }
      ]
    }
  ]
}