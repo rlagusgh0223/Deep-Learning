{
  "nbformat": 4,
  "nbformat_minor": 0,
  "metadata": {
    "colab": {
      "name": "Untitled0.ipynb",
      "provenance": [],
      "authorship_tag": "ABX9TyPntpKGn2TYJjE5g33AfGy/"
    },
    "kernelspec": {
      "name": "python3",
      "display_name": "Python 3"
    },
    "language_info": {
      "name": "python"
    }
  },
  "cells": [
    {
      "cell_type": "code",
      "metadata": {
        "id": "cwT-Hw9lWgH8"
      },
      "source": [
        "from keras.models import Sequential\n",
        "from keras import layers\n",
        "from keras import optimizers"
      ],
      "execution_count": 1,
      "outputs": []
    },
    {
      "cell_type": "code",
      "metadata": {
        "id": "i8z1WGfxW1cN"
      },
      "source": [
        "model = Sequential()\n",
        "model.add(layers.Dense(units=8, activation='relu'))\n",
        "model.add(layers.Dense(units=16, activation='relu'))\n",
        "model.add(layers.Dense(units=32, activation='relu'))\n",
        "model.add(layers.Dense(units=64, activation='relu'))\n",
        "model.add(layers.Dense(units=2, activation='softmax'))"
      ],
      "execution_count": 2,
      "outputs": []
    },
    {
      "cell_type": "code",
      "metadata": {
        "id": "wOkibNivXfYn"
      },
      "source": [
        "model.compile(loss='categorical_crossentropy',\n",
        "              optimizer=optimizers.RMSprop(learning_rate=0.001), metrics=['accuracy'])"
      ],
      "execution_count": 5,
      "outputs": []
    },
    {
      "cell_type": "code",
      "metadata": {
        "id": "ip6ReEYeYYrS"
      },
      "source": [
        "hist = model.fit(data_train_np, data_train_np_y, epochs=400, batch_size=128, validation_split=0.3)"
      ],
      "execution_count": null,
      "outputs": []
    },
    {
      "cell_type": "code",
      "metadata": {
        "id": "7b3mCzG2ZJoO"
      },
      "source": [
        "import matplotlib.pyplot as plt\n",
        "\n",
        "def drawHistory(hist):\n",
        "  fig = plt.figure(figsize=(15,10))\n",
        "  loss_ax = plt.gca()\n",
        "  acc_ax = loss_ax.twinx()\n",
        "\n",
        "  loss_ax.plot(hist.history['loss'], 'y', label='train loss')\n",
        "  loss_ax.plot(hist.history['val_loss'], 'r', label='val loss')\n",
        "  loss_ax.set_xlabel('epoch')\n",
        "  loss_ax.set_ylabel('loss')\n",
        "  loss_ax.legend(loc='lower left')\n",
        "\n",
        "  acc_ax.plot(hist.history['accuracy'], 'b', label='train acc')\n",
        "  acc_ax.plot(hist.history['val_accuracy'], 'g', label='val acc')\n",
        "  acc_ax.set_ylabel('accuracy')\n",
        "  acc_ax.legend(loc='upper left')\n",
        "\n",
        "  plt.show()\n",
        "\n",
        "drawHistory(hist)"
      ],
      "execution_count": null,
      "outputs": []
    },
    {
      "cell_type": "code",
      "metadata": {
        "id": "COtHWOIobtd1"
      },
      "source": [
        "o = model.predict(data_test_np)\n",
        "o = np.argmax(o,-1)"
      ],
      "execution_count": null,
      "outputs": []
    },
    {
      "cell_type": "code",
      "metadata": {
        "id": "KgPToH5Lb4WT"
      },
      "source": [
        "answer = np.zeros([418,2])\n",
        "answer[:,0] = data_test['PassengerId']\n",
        "answer[:,1] = o"
      ],
      "execution_count": null,
      "outputs": []
    },
    {
      "cell_type": "code",
      "metadata": {
        "id": "El3j2ThocD8E"
      },
      "source": [
        "df_answer = pd.DataFrame(answer)\n",
        "df_answer.colums = ['PassengerID','Survived']\n",
        "df_answer = df_answer.astype('int32')\n",
        "df_answer.to_csv('test_predict.csv', index = False)"
      ],
      "execution_count": null,
      "outputs": []
    }
  ]
}