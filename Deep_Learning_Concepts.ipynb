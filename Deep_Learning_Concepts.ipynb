{
  "nbformat": 4,
  "nbformat_minor": 0,
  "metadata": {
    "colab": {
      "name": "Deep Learning Concepts",
      "provenance": [],
      "authorship_tag": "ABX9TyPD/z8T4gIWzlyDRp99q2qv"
    },
    "kernelspec": {
      "name": "python3",
      "display_name": "Python 3"
    },
    "language_info": {
      "name": "python"
    }
  },
  "cells": [
    {
      "cell_type": "code",
      "metadata": {
        "colab": {
          "base_uri": "https://localhost:8080/"
        },
        "id": "0hXwN1kruEEd",
        "outputId": "381de20f-ed6d-4e4c-ca3f-1df8c16c3748"
      },
      "source": [
        "sex = ['male','male','female','male','female','female']\n",
        "\n",
        "import numpy as np\n",
        "sex_conv = np.zeros(6)\n",
        "cnt = 0\n",
        "for x in sex:\n",
        "  if(x == 'female'):\n",
        "    sex_conv[cnt] = 1\n",
        "  cnt = cnt+1\n",
        "print(sex_conv)"
      ],
      "execution_count": 3,
      "outputs": [
        {
          "output_type": "stream",
          "text": [
            "[0. 0. 1. 0. 1. 1.]\n"
          ],
          "name": "stdout"
        }
      ]
    },
    {
      "cell_type": "code",
      "metadata": {
        "colab": {
          "base_uri": "https://localhost:8080/"
        },
        "id": "KdEgVsTFwKdX",
        "outputId": "cde79eff-c100-4015-ec4d-1e9e5f01819a"
      },
      "source": [
        "from tensorflow.keras.utils import to_categorical\n",
        "\n",
        "sex_cate = to_categorical(sex_conv)\n",
        "print(sex_cate)"
      ],
      "execution_count": 5,
      "outputs": [
        {
          "output_type": "stream",
          "text": [
            "[[1. 0.]\n",
            " [1. 0.]\n",
            " [0. 1.]\n",
            " [1. 0.]\n",
            " [0. 1.]\n",
            " [0. 1.]]\n"
          ],
          "name": "stdout"
        }
      ]
    },
    {
      "cell_type": "code",
      "metadata": {
        "colab": {
          "base_uri": "https://localhost:8080/"
        },
        "id": "GODFKLwgxF3u",
        "outputId": "1a3a23fd-4c79-47a2-edff-2346ba0de6f3"
      },
      "source": [
        "pclass_orig = np.array([3,1,2,1,2,3])\n",
        "\n",
        "from tensorflow.keras.utils import to_categorical\n",
        "pclass_cate = to_categorical(pclass_orig-1)\n",
        "\n",
        "print(pclass_cate)"
      ],
      "execution_count": 8,
      "outputs": [
        {
          "output_type": "stream",
          "text": [
            "[[0. 0. 1.]\n",
            " [1. 0. 0.]\n",
            " [0. 1. 0.]\n",
            " [1. 0. 0.]\n",
            " [0. 1. 0.]\n",
            " [0. 0. 1.]]\n"
          ],
          "name": "stdout"
        }
      ]
    }
  ]
}