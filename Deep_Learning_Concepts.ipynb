{
  "nbformat": 4,
  "nbformat_minor": 0,
  "metadata": {
    "colab": {
      "name": "Deep Learning Concepts",
      "provenance": [],
      "authorship_tag": "ABX9TyMoH4+brHHtwXw+R2KjagMw"
    },
    "kernelspec": {
      "name": "python3",
      "display_name": "Python 3"
    },
    "language_info": {
      "name": "python"
    }
  },
  "cells": [
    {
      "cell_type": "code",
      "metadata": {
        "colab": {
          "base_uri": "https://localhost:8080/"
        },
        "id": "0hXwN1kruEEd",
        "outputId": "381de20f-ed6d-4e4c-ca3f-1df8c16c3748"
      },
      "source": [
        "sex = ['male','male','female','male','female','female']\n",
        "\n",
        "import numpy as np\n",
        "sex_conv = np.zeros(6)\n",
        "cnt = 0\n",
        "for x in sex:\n",
        "  if(x == 'female'):\n",
        "    sex_conv[cnt] = 1\n",
        "  cnt = cnt+1\n",
        "print(sex_conv)"
      ],
      "execution_count": 3,
      "outputs": [
        {
          "output_type": "stream",
          "text": [
            "[0. 0. 1. 0. 1. 1.]\n"
          ],
          "name": "stdout"
        }
      ]
    }
  ]
}