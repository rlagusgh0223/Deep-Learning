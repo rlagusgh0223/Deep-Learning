{
  "nbformat": 4,
  "nbformat_minor": 0,
  "metadata": {
    "colab": {
      "name": "합성곱 신경망을 사용한 이미지 분류",
      "provenance": [],
      "authorship_tag": "ABX9TyOHPyitWjTqJ6vrUGHwIOff"
    },
    "kernelspec": {
      "name": "python3",
      "display_name": "Python 3"
    },
    "language_info": {
      "name": "python"
    }
  },
  "cells": [
    {
      "cell_type": "code",
      "metadata": {
        "colab": {
          "base_uri": "https://localhost:8080/",
          "height": 1000
        },
        "id": "d12FEmIsXfDY",
        "outputId": "29cdf957-0c74-4115-d4da-7e3d10536cd3"
      },
      "source": [
        "#패션 MNIST 데이터 불러오기\n",
        "from tensorflow import keras\n",
        "from sklearn.model_selection import train_test_split\n",
        "(train_input, train_target), (test_input, test_target) =\\\n",
        "  keras.datasets.fashion_mnist.load_data()\n",
        "train_scaled = train_input.reshape(-1, 28, 28, 1) / 255.0\n",
        "train_scaled, val_scaled, train_target, val_target = train_test_split(\n",
        "    train_scaled, train_target, test_size=0.2, random_state=42)\n",
        "\n",
        "#합성곱 신경망 만들기\n",
        "model = keras.Sequential()\n",
        "model.add(keras.layers.Conv2D(32, kernel_size=3, activation='relu',\n",
        "                              padding='same', input_shape=(28,28,1)))\n",
        "\n",
        "model.add(keras.layers.MaxPooling2D(2))\n",
        "\n",
        "model.add(keras.layers.Conv2D(64, kernel_size=(3,3), activation='relu', padding='same'))\n",
        "model.add(keras.layers.MaxPooling2D(2))\n",
        "\n",
        "model.add(keras.layers.Flatten())\n",
        "model.add(keras.layers.Dense(100, activation='relu'))\n",
        "model.add(keras.layers.Dropout(0.4))\n",
        "model.add(keras.layers.Dense(10, activation='softmax'))\n",
        "\n",
        "model.summary()\n",
        "\n",
        "keras.utils.plot_model(model)\n",
        "\n",
        "keras.utils.plot_model(model, show_shapes=True, to_file='cnn-architecture.png', dpi=300)\n",
        "\n",
        "#모델 컴파일과 훈련\n",
        "model.compile(optimizer='adam', loss='sparse_categorical_crossentropy', metrics='accuracy')\n",
        "checkpoint_cb = keras.callbacks.ModelCheckpoint('best-cnn-model.h5')\n",
        "early_stopping_cb = keras.callbacks.EarlyStopping(patience=2, restore_best_weights=True)\n",
        "history = model.fit(train_scaled, train_target, epochs=20, validation_data=(val_scaled, val_target),\n",
        "                    callbacks=[checkpoint_cb, early_stopping_cb])\n",
        "\n",
        "import matplotlib.pyplot as plt\n",
        "plt.plot(history.history['loss'])\n",
        "plt.plot(history.history['val_loss'])\n",
        "plt.xlabel('epoch')\n",
        "plt.ylabel('loss')\n",
        "plt.legend(['train','val'])\n",
        "plt.show()\n",
        "\n",
        "model.evaluate(val_scaled, val_target)\n",
        "\n",
        "plt.imshow(val_scaled[0].reshape(28, 28), cmap='gray_r')\n",
        "plt.show()\n",
        "\n",
        "preds = model.predict(val_scaled[0:1])\n",
        "print(preds)\n",
        "\n",
        "plt.bar(range(1, 11), preds[0])\n",
        "plt.xlabel('class')\n",
        "plt.ylabel('prob.')\n",
        "plt.show()\n",
        "\n",
        "classes = ['티셔츠', '바지', '스웨터', '드레스', '코트', '샌달', '셔츠', '스니커즈', '가방', '앵클 부츠']\n",
        "\n",
        "import numpy as np\n",
        "print(classes[np.argmax(preds)])\n",
        "\n",
        "test_scaled = test_input.reshape(-1, 28, 28, 1) / 255.0\n",
        "\n",
        "model.evaluate(test_scaled, test_target)"
      ],
      "execution_count": 20,
      "outputs": [
        {
          "output_type": "stream",
          "text": [
            "Model: \"sequential_18\"\n",
            "_________________________________________________________________\n",
            "Layer (type)                 Output Shape              Param #   \n",
            "=================================================================\n",
            "conv2d_36 (Conv2D)           (None, 28, 28, 32)        320       \n",
            "_________________________________________________________________\n",
            "max_pooling2d_36 (MaxPooling (None, 14, 14, 32)        0         \n",
            "_________________________________________________________________\n",
            "conv2d_37 (Conv2D)           (None, 14, 14, 64)        18496     \n",
            "_________________________________________________________________\n",
            "max_pooling2d_37 (MaxPooling (None, 7, 7, 64)          0         \n",
            "_________________________________________________________________\n",
            "flatten_18 (Flatten)         (None, 3136)              0         \n",
            "_________________________________________________________________\n",
            "dense_36 (Dense)             (None, 100)               313700    \n",
            "_________________________________________________________________\n",
            "dropout_18 (Dropout)         (None, 100)               0         \n",
            "_________________________________________________________________\n",
            "dense_37 (Dense)             (None, 10)                1010      \n",
            "=================================================================\n",
            "Total params: 333,526\n",
            "Trainable params: 333,526\n",
            "Non-trainable params: 0\n",
            "_________________________________________________________________\n",
            "Epoch 1/20\n",
            "1500/1500 [==============================] - 62s 41ms/step - loss: 0.5438 - accuracy: 0.8040 - val_loss: 0.3401 - val_accuracy: 0.8743\n",
            "Epoch 2/20\n",
            "1500/1500 [==============================] - 62s 41ms/step - loss: 0.3600 - accuracy: 0.8708 - val_loss: 0.2824 - val_accuracy: 0.8926\n",
            "Epoch 3/20\n",
            "1500/1500 [==============================] - 62s 41ms/step - loss: 0.3053 - accuracy: 0.8900 - val_loss: 0.2541 - val_accuracy: 0.9025\n",
            "Epoch 4/20\n",
            "1500/1500 [==============================] - 61s 41ms/step - loss: 0.2707 - accuracy: 0.9026 - val_loss: 0.2440 - val_accuracy: 0.9096\n",
            "Epoch 5/20\n",
            "1500/1500 [==============================] - 61s 41ms/step - loss: 0.2469 - accuracy: 0.9104 - val_loss: 0.2325 - val_accuracy: 0.9132\n",
            "Epoch 6/20\n",
            "1500/1500 [==============================] - 61s 40ms/step - loss: 0.2280 - accuracy: 0.9158 - val_loss: 0.2357 - val_accuracy: 0.9142\n",
            "Epoch 7/20\n",
            "1500/1500 [==============================] - 60s 40ms/step - loss: 0.2087 - accuracy: 0.9233 - val_loss: 0.2195 - val_accuracy: 0.9190\n",
            "Epoch 8/20\n",
            "1500/1500 [==============================] - 61s 40ms/step - loss: 0.1933 - accuracy: 0.9280 - val_loss: 0.2324 - val_accuracy: 0.9125\n",
            "Epoch 9/20\n",
            "1500/1500 [==============================] - 60s 40ms/step - loss: 0.1803 - accuracy: 0.9319 - val_loss: 0.2219 - val_accuracy: 0.9172\n"
          ],
          "name": "stdout"
        },
        {
          "output_type": "display_data",
          "data": {
            "image/png": "[encoded data removed]",
            "text/plain": [
              "<Figure size 432x288 with 1 Axes>"
            ]
          },
          "metadata": {
            "tags": [],
            "needs_background": "light"
          }
        },
        {
          "output_type": "stream",
          "text": [
            "375/375 [==============================] - 4s 11ms/step - loss: 0.2195 - accuracy: 0.9190\n"
          ],
          "name": "stdout"
        },
        {
          "output_type": "display_data",
          "data": {
            "image/png": "[encoded data removed]",
            "text/plain": [
              "<Figure size 432x288 with 1 Axes>"
            ]
          },
          "metadata": {
            "tags": [],
            "needs_background": "light"
          }
        },
        {
          "output_type": "stream",
          "text": [
            "WARNING:tensorflow:6 out of the last 6 calls to <function Model.make_predict_function.<locals>.predict_function at 0x7f8d744efa70> triggered tf.function retracing. Tracing is expensive and the excessive number of tracings could be due to (1) creating @tf.function repeatedly in a loop, (2) passing tensors with different shapes, (3) passing Python objects instead of tensors. For (1), please define your @tf.function outside of the loop. For (2), @tf.function has experimental_relax_shapes=True option that relaxes argument shapes that can avoid unnecessary retracing. For (3), please refer to https://www.tensorflow.org/guide/function#controlling_retracing and https://www.tensorflow.org/api_docs/python/tf/function for  more details.\n",
            "[[4.0330755e-19 6.4625530e-29 5.4024842e-23 1.1483066e-19 5.3336099e-19\n",
            "  1.1086373e-20 1.7837045e-17 1.2733690e-20 1.0000000e+00 3.1549177e-18]]\n"
          ],
          "name": "stdout"
        },
        {
          "output_type": "display_data",
          "data": {
            "image/png": "[encoded data removed]",
            "text/plain": [
              "<Figure size 432x288 with 1 Axes>"
            ]
          },
          "metadata": {
            "tags": [],
            "needs_background": "light"
          }
        },
        {
          "output_type": "stream",
          "text": [
            "가방\n",
            "313/313 [==============================] - 4s 12ms/step - loss: 0.2394 - accuracy: 0.9152\n"
          ],
          "name": "stdout"
        },
        {
          "output_type": "execute_result",
          "data": {
            "text/plain": [
              "[0.23936042189598083, 0.9151999950408936]"
            ]
          },
          "metadata": {
            "tags": []
          },
          "execution_count": 20
        }
      ]
    },
    {
      "cell_type": "code",
      "metadata": {
        "id": "GlMZtXANx6J3"
      },
      "source": [
        ""
      ],
      "execution_count": null,
      "outputs": []
    }
  ]
}